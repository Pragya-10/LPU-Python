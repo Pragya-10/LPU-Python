{
 "cells": [
  {
   "cell_type": "markdown",
   "id": "a26d8d2b",
   "metadata": {},
   "source": [
    "```\n",
    "5 5 5 5 5\n",
    "5 4 4 4 5\n",
    "5 4 3 4 5\n",
    "5 4 4 4 5 \n",
    "5 5 5 5 5\n",
    "```"
   ]
  },
  {
   "cell_type": "markdown",
   "id": "2af85212",
   "metadata": {},
   "source": [
    "```\n",
    "7 7 7 7 7 7 7\n",
    "7 6 6 6 6 6 7\n",
    "7 6 5 5 5 6 7\n",
    "7 6 5 4 5 6 7\n",
    "7 6 5 5 5 6 7\n",
    "7 6 6 6 6 6 7\n",
    "7 7 7 7 7 7 7\n",
    "```"
   ]
  },
  {
   "cell_type": "code",
   "execution_count": 1,
   "id": "eea15770",
   "metadata": {},
   "outputs": [],
   "source": [
    "n = 5"
   ]
  },
  {
   "cell_type": "markdown",
   "id": "24e72940",
   "metadata": {},
   "source": [
    "[0,n)"
   ]
  },
  {
   "cell_type": "code",
   "execution_count": 19,
   "id": "9dc4476a",
   "metadata": {},
   "outputs": [
    {
     "data": {
      "text/plain": [
       "7"
      ]
     },
     "execution_count": 19,
     "metadata": {},
     "output_type": "execute_result"
    }
   ],
   "source": [
    "max(1, 2, 3, 4, 5, 7)"
   ]
  },
  {
   "cell_type": "code",
   "execution_count": 30,
   "id": "789d4ce5",
   "metadata": {},
   "outputs": [],
   "source": [
    "n = 5"
   ]
  },
  {
   "cell_type": "code",
   "execution_count": null,
   "id": "cc151ee2",
   "metadata": {},
   "outputs": [],
   "source": []
  },
  {
   "cell_type": "code",
   "execution_count": null,
   "id": "2b6633cd",
   "metadata": {},
   "outputs": [],
   "source": [
    "max(1, 2, 3, 4)"
   ]
  },
  {
   "cell_type": "markdown",
   "id": "7a87fbc8",
   "metadata": {},
   "source": []
  },
  {
   "cell_type": "code",
   "execution_count": 32,
   "id": "0e02cb9f",
   "metadata": {},
   "outputs": [
    {
     "name": "stdout",
     "output_type": "stream",
     "text": [
      "0 0 0 0 0 \n",
      "1 1 1 1 1 \n",
      "2 2 2 2 2 \n",
      "3 3 3 3 3 \n",
      "4 4 4 4 4 \n"
     ]
    }
   ],
   "source": [
    "for i in range(n):\n",
    "    for j in range(n):\n",
    "        print(i, end = \" \")\n",
    "    print()"
   ]
  },
  {
   "cell_type": "code",
   "execution_count": 31,
   "id": "91f1c0b1",
   "metadata": {},
   "outputs": [
    {
     "name": "stdout",
     "output_type": "stream",
     "text": [
      "0 1 2 3 4 \n",
      "0 1 2 3 4 \n",
      "0 1 2 3 4 \n",
      "0 1 2 3 4 \n",
      "0 1 2 3 4 \n"
     ]
    }
   ],
   "source": [
    "for i in range(n):\n",
    "    for j in range(n):\n",
    "        print(j, end = \" \")\n",
    "    print()"
   ]
  },
  {
   "cell_type": "code",
   "execution_count": 33,
   "id": "b02e4204",
   "metadata": {},
   "outputs": [
    {
     "name": "stdout",
     "output_type": "stream",
     "text": [
      "0 1 2 3 4 \n",
      "1 1 2 3 4 \n",
      "2 2 2 3 4 \n",
      "3 3 3 3 4 \n",
      "4 4 4 4 4 \n"
     ]
    }
   ],
   "source": [
    "for i in range(n):\n",
    "    for j in range(n):\n",
    "        print(max(i, j), end = \" \")\n",
    "    print()"
   ]
  },
  {
   "cell_type": "code",
   "execution_count": 35,
   "id": "5a4669e2",
   "metadata": {},
   "outputs": [
    {
     "name": "stdout",
     "output_type": "stream",
     "text": [
      "4 4 4 4 4 \n",
      "3 3 3 3 3 \n",
      "2 2 2 2 2 \n",
      "1 1 1 1 1 \n",
      "0 0 0 0 0 \n"
     ]
    }
   ],
   "source": [
    "for i in range(n):\n",
    "    for j in range(n):\n",
    "        print(n-i-1, end = \" \")\n",
    "    print()"
   ]
  },
  {
   "cell_type": "code",
   "execution_count": 36,
   "id": "f36f9567",
   "metadata": {},
   "outputs": [
    {
     "name": "stdout",
     "output_type": "stream",
     "text": [
      "4 3 2 1 0 \n",
      "4 3 2 1 0 \n",
      "4 3 2 1 0 \n",
      "4 3 2 1 0 \n",
      "4 3 2 1 0 \n"
     ]
    }
   ],
   "source": [
    "for i in range(n):\n",
    "    for j in range(n):\n",
    "        print(n-j-1, end = \" \")\n",
    "    print()"
   ]
  },
  {
   "cell_type": "code",
   "execution_count": 40,
   "id": "8ac63e3a",
   "metadata": {},
   "outputs": [
    {
     "name": "stdout",
     "output_type": "stream",
     "text": [
      "5 5 5 5 5 \n",
      "5 4 4 4 5 \n",
      "5 4 3 4 5 \n",
      "5 4 4 4 5 \n",
      "5 5 5 5 5 \n"
     ]
    }
   ],
   "source": [
    "for i in range(n):\n",
    "    for j in range(n):\n",
    "        print(\n",
    "            max(max(i+1, j+1), max(n-j, n-i)\n",
    "        ), end = \" \")\n",
    "    print()"
   ]
  },
  {
   "cell_type": "markdown",
   "id": "ded98a86",
   "metadata": {},
   "source": [
    "### Lambda Expressions"
   ]
  },
  {
   "cell_type": "code",
   "execution_count": 7,
   "id": "8a635228",
   "metadata": {},
   "outputs": [],
   "source": [
    "def func():\n",
    "    return 1 + 4"
   ]
  },
  {
   "cell_type": "code",
   "execution_count": 8,
   "id": "b78e1da9",
   "metadata": {},
   "outputs": [],
   "source": [
    "a = func"
   ]
  },
  {
   "cell_type": "code",
   "execution_count": 9,
   "id": "6b6716f9",
   "metadata": {},
   "outputs": [
    {
     "data": {
      "text/plain": [
       "5"
      ]
     },
     "execution_count": 9,
     "metadata": {},
     "output_type": "execute_result"
    }
   ],
   "source": [
    "a()"
   ]
  },
  {
   "cell_type": "code",
   "execution_count": 12,
   "id": "49711834",
   "metadata": {},
   "outputs": [
    {
     "data": {
      "text/plain": [
       "<function __main__.<lambda>(a, b)>"
      ]
     },
     "execution_count": 12,
     "metadata": {},
     "output_type": "execute_result"
    }
   ],
   "source": [
    "lambda a, b: a + b"
   ]
  },
  {
   "cell_type": "code",
   "execution_count": 4,
   "id": "c88b8244",
   "metadata": {},
   "outputs": [
    {
     "name": "stdout",
     "output_type": "stream",
     "text": [
      "Hello World\n"
     ]
    }
   ],
   "source": [
    "print(\"Hello World\")"
   ]
  },
  {
   "cell_type": "code",
   "execution_count": 5,
   "id": "6feaec8b",
   "metadata": {},
   "outputs": [],
   "source": [
    "show = print"
   ]
  },
  {
   "cell_type": "code",
   "execution_count": 6,
   "id": "f240c9d0",
   "metadata": {},
   "outputs": [
    {
     "name": "stdout",
     "output_type": "stream",
     "text": [
      "something\n"
     ]
    }
   ],
   "source": [
    "show(\"something\")"
   ]
  },
  {
   "cell_type": "code",
   "execution_count": null,
   "id": "0aff13ed",
   "metadata": {},
   "outputs": [],
   "source": [
    "int a[] = {1, 2, 3}"
   ]
  },
  {
   "cell_type": "code",
   "execution_count": 14,
   "id": "7c7da5f8",
   "metadata": {},
   "outputs": [],
   "source": [
    "names = [\"jatin\", \"saransh\", \"shubham\", \"samarth\"]"
   ]
  },
  {
   "cell_type": "code",
   "execution_count": null,
   "id": "a12ceeb0",
   "metadata": {},
   "outputs": [],
   "source": []
  },
  {
   "cell_type": "code",
   "execution_count": null,
   "id": "59a0463c",
   "metadata": {},
   "outputs": [],
   "source": []
  },
  {
   "cell_type": "code",
   "execution_count": null,
   "id": "f574bbfc",
   "metadata": {},
   "outputs": [],
   "source": []
  },
  {
   "cell_type": "code",
   "execution_count": 38,
   "id": "5ea7657c",
   "metadata": {},
   "outputs": [
    {
     "name": "stdout",
     "output_type": "stream",
     "text": [
      "0 - jatin\n",
      "1 - saransh\n",
      "2 - shubham\n",
      "3 - samarth\n"
     ]
    }
   ],
   "source": [
    "for i, name in enumerate(names):\n",
    "    print(i, \"-\", name)"
   ]
  },
  {
   "cell_type": "code",
   "execution_count": 46,
   "id": "d0c44f02",
   "metadata": {},
   "outputs": [
    {
     "name": "stdout",
     "output_type": "stream",
     "text": [
      "jatin - 50 delhi\n",
      "saransh - 80 punjab\n",
      "shubham - 90 punjab\n",
      "samarth - 70 punjab\n"
     ]
    }
   ],
   "source": [
    "names = [\"jatin\", \"saransh\", \"shubham\", \"samarth\"]\n",
    "scores = [50, 80, 90, 70]\n",
    "states = [\"delhi\", \"punjab\", \"punjab\", \"punjab\"]\n",
    "\n",
    "for name, score, state in zip(names, scores, states):\n",
    "    print(name, \"-\", score, state)"
   ]
  },
  {
   "cell_type": "code",
   "execution_count": null,
   "id": "a49dce5a",
   "metadata": {},
   "outputs": [],
   "source": []
  },
  {
   "cell_type": "markdown",
   "id": "81adf2b2",
   "metadata": {},
   "source": [
    "```\n",
    "0 - jatin\n",
    "1 - saransh\n",
    "2 - shubham\n",
    "3 - samarth\n",
    "```"
   ]
  },
  {
   "cell_type": "code",
   "execution_count": null,
   "id": "e87c3347",
   "metadata": {},
   "outputs": [],
   "source": []
  },
  {
   "cell_type": "markdown",
   "id": "48214453",
   "metadata": {},
   "source": [
    "packing and unpacking values"
   ]
  },
  {
   "cell_type": "code",
   "execution_count": 30,
   "id": "a35a29fc",
   "metadata": {},
   "outputs": [],
   "source": [
    "a = [1, 2, 3]"
   ]
  },
  {
   "cell_type": "code",
   "execution_count": 29,
   "id": "be8771fb",
   "metadata": {},
   "outputs": [
    {
     "name": "stdout",
     "output_type": "stream",
     "text": [
      "1 2\n"
     ]
    }
   ],
   "source": [
    "print(b, c)"
   ]
  },
  {
   "cell_type": "code",
   "execution_count": 33,
   "id": "b9146a79",
   "metadata": {},
   "outputs": [],
   "source": [
    "a = 1, 2"
   ]
  },
  {
   "cell_type": "code",
   "execution_count": 34,
   "id": "3d51ca97",
   "metadata": {},
   "outputs": [
    {
     "name": "stdout",
     "output_type": "stream",
     "text": [
      "<class 'tuple'>\n"
     ]
    }
   ],
   "source": [
    "print(type(a))"
   ]
  },
  {
   "cell_type": "code",
   "execution_count": 32,
   "id": "fdc86a5c",
   "metadata": {},
   "outputs": [
    {
     "name": "stdout",
     "output_type": "stream",
     "text": [
      "9 5\n"
     ]
    }
   ],
   "source": [
    "a = 5\n",
    "b = 9\n",
    "\n",
    "a, b = b, a\n",
    "\n",
    "print(a, b)"
   ]
  },
  {
   "cell_type": "code",
   "execution_count": null,
   "id": "cf0a8ee4",
   "metadata": {},
   "outputs": [],
   "source": []
  },
  {
   "cell_type": "code",
   "execution_count": null,
   "id": "828ccbd3",
   "metadata": {},
   "outputs": [],
   "source": [
    "a = 5\n",
    "b = 9\n",
    "\n",
    "temp = a\n",
    "a = b\n",
    "b = temp"
   ]
  },
  {
   "cell_type": "code",
   "execution_count": 22,
   "id": "54825df0",
   "metadata": {},
   "outputs": [
    {
     "name": "stdout",
     "output_type": "stream",
     "text": [
      "9 5\n"
     ]
    }
   ],
   "source": [
    "a = 5\n",
    "b = 9\n",
    "\n",
    "a = a+b\n",
    "b = a-b\n",
    "a = a-b\n",
    "\n",
    "print(a, b)"
   ]
  },
  {
   "cell_type": "code",
   "execution_count": 23,
   "id": "e4ee7148",
   "metadata": {},
   "outputs": [
    {
     "name": "stdout",
     "output_type": "stream",
     "text": [
      "9 5\n"
     ]
    }
   ],
   "source": [
    "a = 5\n",
    "b = 9\n",
    "\n",
    "a = a^b\n",
    "b = a^b\n",
    "a = a^b\n",
    "\n",
    "print(a, b)"
   ]
  },
  {
   "cell_type": "code",
   "execution_count": null,
   "id": "b0f7fccc",
   "metadata": {},
   "outputs": [],
   "source": []
  },
  {
   "cell_type": "markdown",
   "id": "dc1cbbad",
   "metadata": {},
   "source": [
    "1. OOSE (Object Oriented Software Engineering)\n",
    "2. Computer Networks\n",
    "3. Operating Systems\n",
    "4. Microprocessors and Microcontrollers"
   ]
  },
  {
   "cell_type": "code",
   "execution_count": null,
   "id": "ca44e593",
   "metadata": {},
   "outputs": [],
   "source": [
    "1 2 3 4 5 6 7 8"
   ]
  },
  {
   "cell_type": "code",
   "execution_count": null,
   "id": "fbbb872c",
   "metadata": {},
   "outputs": [],
   "source": [
    "O(log n)"
   ]
  },
  {
   "cell_type": "code",
   "execution_count": null,
   "id": "91f5142a",
   "metadata": {},
   "outputs": [],
   "source": [
    "1 3 5 7 2 6 4 8"
   ]
  },
  {
   "cell_type": "code",
   "execution_count": null,
   "id": "c5f0523e",
   "metadata": {},
   "outputs": [],
   "source": []
  },
  {
   "cell_type": "code",
   "execution_count": 1,
   "id": "92c27603",
   "metadata": {},
   "outputs": [],
   "source": [
    "from pprint import pprint"
   ]
  },
  {
   "cell_type": "code",
   "execution_count": 17,
   "id": "df01fdbc",
   "metadata": {},
   "outputs": [],
   "source": [
    "a = [{'Branch': 'cse', 'Name': 'rupinder', 'Roll_no': 11902166},\n",
    " {'Branch': 'cse', 'Name': 'akhil', 'Roll_no': 11902177}]"
   ]
  },
  {
   "cell_type": "code",
   "execution_count": 18,
   "id": "d1fa5052",
   "metadata": {},
   "outputs": [
    {
     "name": "stdout",
     "output_type": "stream",
     "text": [
      "[{'Branch': 'cse',\n",
      "  'Name': 'rupinder',\n",
      "  'Roll_no': 11902166},\n",
      " {'Branch': 'cse',\n",
      "  'Name': 'akhil',\n",
      "  'Roll_no': 11902177}]\n"
     ]
    }
   ],
   "source": [
    "pprint(a, width=5)"
   ]
  },
  {
   "cell_type": "code",
   "execution_count": 14,
   "id": "26e6e934",
   "metadata": {},
   "outputs": [],
   "source": [
    "pprint?"
   ]
  },
  {
   "cell_type": "code",
   "execution_count": null,
   "id": "192417fd",
   "metadata": {},
   "outputs": [],
   "source": []
  },
  {
   "cell_type": "code",
   "execution_count": null,
   "id": "affb37db",
   "metadata": {},
   "outputs": [],
   "source": []
  },
  {
   "cell_type": "code",
   "execution_count": null,
   "id": "6ba0af2c",
   "metadata": {},
   "outputs": [],
   "source": []
  },
  {
   "cell_type": "code",
   "execution_count": null,
   "id": "3186175b",
   "metadata": {},
   "outputs": [],
   "source": []
  }
 ],
 "metadata": {
  "kernelspec": {
   "display_name": "Python 3",
   "language": "python",
   "name": "python3"
  },
  "language_info": {
   "codemirror_mode": {
    "name": "ipython",
    "version": 3
   },
   "file_extension": ".py",
   "mimetype": "text/x-python",
   "name": "python",
   "nbconvert_exporter": "python",
   "pygments_lexer": "ipython3",
   "version": "3.9.4"
  }
 },
 "nbformat": 4,
 "nbformat_minor": 5
}
